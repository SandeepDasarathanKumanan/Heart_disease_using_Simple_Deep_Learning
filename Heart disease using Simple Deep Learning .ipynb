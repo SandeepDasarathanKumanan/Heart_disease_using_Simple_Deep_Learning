{
 "cells": [
  {
   "cell_type": "code",
   "execution_count": 1,
   "id": "380354f0",
   "metadata": {},
   "outputs": [],
   "source": [
    "import sys"
   ]
  },
  {
   "cell_type": "code",
   "execution_count": 2,
   "id": "ea0c19df",
   "metadata": {},
   "outputs": [
    {
     "name": "stdout",
     "output_type": "stream",
     "text": [
      "3.11.4 (main, Jul  5 2023, 08:54:11) [Clang 14.0.6 ]\n"
     ]
    }
   ],
   "source": [
    "print(sys.version)"
   ]
  },
  {
   "cell_type": "code",
   "execution_count": 4,
   "id": "6eead8b2",
   "metadata": {},
   "outputs": [
    {
     "name": "stdout",
     "output_type": "stream",
     "text": [
      "Collecting tensorflow\n",
      "  Obtaining dependency information for tensorflow from https://files.pythonhosted.org/packages/d6/69/d461fa09235326e08b7ca463d5491426fdd4908ef6d3f9ed51d0777dc071/tensorflow-2.13.0-cp311-cp311-macosx_12_0_arm64.whl.metadata\n",
      "  Downloading tensorflow-2.13.0-cp311-cp311-macosx_12_0_arm64.whl.metadata (2.6 kB)\n",
      "Collecting tensorflow-macos==2.13.0 (from tensorflow)\n",
      "  Obtaining dependency information for tensorflow-macos==2.13.0 from https://files.pythonhosted.org/packages/f1/cc/6c262ae6f3a23b118b1104fa5f6126067744ffa9226faade202b0a20bdd3/tensorflow_macos-2.13.0-cp311-cp311-macosx_12_0_arm64.whl.metadata\n",
      "  Downloading tensorflow_macos-2.13.0-cp311-cp311-macosx_12_0_arm64.whl.metadata (3.2 kB)\n",
      "Collecting absl-py>=1.0.0 (from tensorflow-macos==2.13.0->tensorflow)\n",
      "  Downloading absl_py-1.4.0-py3-none-any.whl (126 kB)\n",
      "\u001b[2K     \u001b[90m━━━━━━━━━━━━━━━━━━━━━━━━━━━━━━━━━━━━━━━\u001b[0m \u001b[32m126.5/126.5 kB\u001b[0m \u001b[31m2.0 MB/s\u001b[0m eta \u001b[36m0:00:00\u001b[0ma \u001b[36m0:00:01\u001b[0m\n",
      "\u001b[?25hCollecting astunparse>=1.6.0 (from tensorflow-macos==2.13.0->tensorflow)\n",
      "  Downloading astunparse-1.6.3-py2.py3-none-any.whl (12 kB)\n",
      "Collecting flatbuffers>=23.1.21 (from tensorflow-macos==2.13.0->tensorflow)\n",
      "  Obtaining dependency information for flatbuffers>=23.1.21 from https://files.pythonhosted.org/packages/6f/12/d5c79ee252793ffe845d58a913197bfa02ae9a0b5c9bc3dc4b58d477b9e7/flatbuffers-23.5.26-py2.py3-none-any.whl.metadata\n",
      "  Downloading flatbuffers-23.5.26-py2.py3-none-any.whl.metadata (850 bytes)\n",
      "Collecting gast<=0.4.0,>=0.2.1 (from tensorflow-macos==2.13.0->tensorflow)\n",
      "  Downloading gast-0.4.0-py3-none-any.whl (9.8 kB)\n",
      "Collecting google-pasta>=0.1.1 (from tensorflow-macos==2.13.0->tensorflow)\n",
      "  Downloading google_pasta-0.2.0-py3-none-any.whl (57 kB)\n",
      "\u001b[2K     \u001b[90m━━━━━━━━━━━━━━━━━━━━━━━━━━━━━━━━━━━━━━━━\u001b[0m \u001b[32m57.5/57.5 kB\u001b[0m \u001b[31m2.3 MB/s\u001b[0m eta \u001b[36m0:00:00\u001b[0m\n",
      "\u001b[?25hRequirement already satisfied: h5py>=2.9.0 in /Users/priyankafrancis/anaconda3/lib/python3.11/site-packages (from tensorflow-macos==2.13.0->tensorflow) (3.7.0)\n",
      "Collecting libclang>=13.0.0 (from tensorflow-macos==2.13.0->tensorflow)\n",
      "  Obtaining dependency information for libclang>=13.0.0 from https://files.pythonhosted.org/packages/32/1f/981809b77b71972beec34b3ff5422c1b1f7e519daac7b3cbd055c05ba2cf/libclang-16.0.6-py2.py3-none-macosx_11_0_arm64.whl.metadata\n",
      "  Downloading libclang-16.0.6-py2.py3-none-macosx_11_0_arm64.whl.metadata (5.2 kB)\n",
      "Requirement already satisfied: numpy<=1.24.3,>=1.22 in /Users/priyankafrancis/anaconda3/lib/python3.11/site-packages (from tensorflow-macos==2.13.0->tensorflow) (1.24.3)\n",
      "Collecting opt-einsum>=2.3.2 (from tensorflow-macos==2.13.0->tensorflow)\n",
      "  Downloading opt_einsum-3.3.0-py3-none-any.whl (65 kB)\n",
      "\u001b[2K     \u001b[90m━━━━━━━━━━━━━━━━━━━━━━━━━━━━━━━━━━━━━━━━\u001b[0m \u001b[32m65.5/65.5 kB\u001b[0m \u001b[31m3.5 MB/s\u001b[0m eta \u001b[36m0:00:00\u001b[0m\n",
      "\u001b[?25hRequirement already satisfied: packaging in /Users/priyankafrancis/anaconda3/lib/python3.11/site-packages (from tensorflow-macos==2.13.0->tensorflow) (23.0)\n",
      "Collecting protobuf!=4.21.0,!=4.21.1,!=4.21.2,!=4.21.3,!=4.21.4,!=4.21.5,<5.0.0dev,>=3.20.3 (from tensorflow-macos==2.13.0->tensorflow)\n",
      "  Obtaining dependency information for protobuf!=4.21.0,!=4.21.1,!=4.21.2,!=4.21.3,!=4.21.4,!=4.21.5,<5.0.0dev,>=3.20.3 from https://files.pythonhosted.org/packages/fe/f3/957db80e5b9f7fd7df97e5554fdc57919dfad24e89291223fd04a0e3c84f/protobuf-4.24.3-cp37-abi3-macosx_10_9_universal2.whl.metadata\n",
      "  Downloading protobuf-4.24.3-cp37-abi3-macosx_10_9_universal2.whl.metadata (540 bytes)\n",
      "Requirement already satisfied: setuptools in /Users/priyankafrancis/anaconda3/lib/python3.11/site-packages (from tensorflow-macos==2.13.0->tensorflow) (68.0.0)\n",
      "Requirement already satisfied: six>=1.12.0 in /Users/priyankafrancis/anaconda3/lib/python3.11/site-packages (from tensorflow-macos==2.13.0->tensorflow) (1.16.0)\n",
      "Collecting termcolor>=1.1.0 (from tensorflow-macos==2.13.0->tensorflow)\n",
      "  Downloading termcolor-2.3.0-py3-none-any.whl (6.9 kB)\n",
      "Collecting typing-extensions<4.6.0,>=3.6.6 (from tensorflow-macos==2.13.0->tensorflow)\n",
      "  Downloading typing_extensions-4.5.0-py3-none-any.whl (27 kB)\n",
      "Requirement already satisfied: wrapt>=1.11.0 in /Users/priyankafrancis/anaconda3/lib/python3.11/site-packages (from tensorflow-macos==2.13.0->tensorflow) (1.14.1)\n",
      "Collecting grpcio<2.0,>=1.24.3 (from tensorflow-macos==2.13.0->tensorflow)\n",
      "  Obtaining dependency information for grpcio<2.0,>=1.24.3 from https://files.pythonhosted.org/packages/a1/9c/ef89aae6948949a891a50e19bb951aac2f7ceb9561fdfdcd07c9b890ed6c/grpcio-1.58.0-cp311-cp311-macosx_10_10_universal2.whl.metadata\n",
      "  Downloading grpcio-1.58.0-cp311-cp311-macosx_10_10_universal2.whl.metadata (4.0 kB)\n",
      "Collecting tensorboard<2.14,>=2.13 (from tensorflow-macos==2.13.0->tensorflow)\n",
      "  Downloading tensorboard-2.13.0-py3-none-any.whl (5.6 MB)\n",
      "\u001b[2K     \u001b[90m━━━━━━━━━━━━━━━━━━━━━━━━━━━━━━━━━━━━━━━━\u001b[0m \u001b[32m5.6/5.6 MB\u001b[0m \u001b[31m3.5 MB/s\u001b[0m eta \u001b[36m0:00:00\u001b[0m00:01\u001b[0m00:01\u001b[0m\n",
      "\u001b[?25hCollecting tensorflow-estimator<2.14,>=2.13.0 (from tensorflow-macos==2.13.0->tensorflow)\n",
      "  Obtaining dependency information for tensorflow-estimator<2.14,>=2.13.0 from https://files.pythonhosted.org/packages/72/5c/c318268d96791c6222ad7df1651bbd1b2409139afeb6f468c0f327177016/tensorflow_estimator-2.13.0-py2.py3-none-any.whl.metadata\n",
      "  Downloading tensorflow_estimator-2.13.0-py2.py3-none-any.whl.metadata (1.3 kB)\n",
      "Collecting keras<2.14,>=2.13.1 (from tensorflow-macos==2.13.0->tensorflow)\n",
      "  Obtaining dependency information for keras<2.14,>=2.13.1 from https://files.pythonhosted.org/packages/2e/f3/19da7511b45e80216cbbd9467137b2d28919c58ba1ccb971435cb631e470/keras-2.13.1-py3-none-any.whl.metadata\n",
      "  Downloading keras-2.13.1-py3-none-any.whl.metadata (2.4 kB)\n",
      "Requirement already satisfied: wheel<1.0,>=0.23.0 in /Users/priyankafrancis/anaconda3/lib/python3.11/site-packages (from astunparse>=1.6.0->tensorflow-macos==2.13.0->tensorflow) (0.38.4)\n",
      "Collecting google-auth<3,>=1.6.3 (from tensorboard<2.14,>=2.13->tensorflow-macos==2.13.0->tensorflow)\n",
      "  Obtaining dependency information for google-auth<3,>=1.6.3 from https://files.pythonhosted.org/packages/9d/44/5a992cb9d7bf8aaae73bc5adaf721ad08731c9d00c1c17999a8691404b0c/google_auth-2.23.0-py2.py3-none-any.whl.metadata\n",
      "  Downloading google_auth-2.23.0-py2.py3-none-any.whl.metadata (4.2 kB)\n",
      "Collecting google-auth-oauthlib<1.1,>=0.5 (from tensorboard<2.14,>=2.13->tensorflow-macos==2.13.0->tensorflow)\n",
      "  Downloading google_auth_oauthlib-1.0.0-py2.py3-none-any.whl (18 kB)\n",
      "Requirement already satisfied: markdown>=2.6.8 in /Users/priyankafrancis/anaconda3/lib/python3.11/site-packages (from tensorboard<2.14,>=2.13->tensorflow-macos==2.13.0->tensorflow) (3.4.1)\n",
      "Requirement already satisfied: requests<3,>=2.21.0 in /Users/priyankafrancis/anaconda3/lib/python3.11/site-packages (from tensorboard<2.14,>=2.13->tensorflow-macos==2.13.0->tensorflow) (2.31.0)\n",
      "Collecting tensorboard-data-server<0.8.0,>=0.7.0 (from tensorboard<2.14,>=2.13->tensorflow-macos==2.13.0->tensorflow)\n",
      "  Obtaining dependency information for tensorboard-data-server<0.8.0,>=0.7.0 from https://files.pythonhosted.org/packages/da/61/6e9ff8258422d287eec718872fb71e05324356722ab658c8afda25f51539/tensorboard_data_server-0.7.1-py3-none-any.whl.metadata\n",
      "  Downloading tensorboard_data_server-0.7.1-py3-none-any.whl.metadata (1.1 kB)\n",
      "Requirement already satisfied: werkzeug>=1.0.1 in /Users/priyankafrancis/anaconda3/lib/python3.11/site-packages (from tensorboard<2.14,>=2.13->tensorflow-macos==2.13.0->tensorflow) (2.2.3)\n",
      "Collecting cachetools<6.0,>=2.0.0 (from google-auth<3,>=1.6.3->tensorboard<2.14,>=2.13->tensorflow-macos==2.13.0->tensorflow)\n",
      "  Obtaining dependency information for cachetools<6.0,>=2.0.0 from https://files.pythonhosted.org/packages/a9/c9/c8a7710f2cedcb1db9224fdd4d8307c9e48cbddc46c18b515fefc0f1abbe/cachetools-5.3.1-py3-none-any.whl.metadata\n",
      "  Downloading cachetools-5.3.1-py3-none-any.whl.metadata (5.2 kB)\n",
      "Requirement already satisfied: pyasn1-modules>=0.2.1 in /Users/priyankafrancis/anaconda3/lib/python3.11/site-packages (from google-auth<3,>=1.6.3->tensorboard<2.14,>=2.13->tensorflow-macos==2.13.0->tensorflow) (0.2.8)\n",
      "Collecting rsa<5,>=3.1.4 (from google-auth<3,>=1.6.3->tensorboard<2.14,>=2.13->tensorflow-macos==2.13.0->tensorflow)\n"
     ]
    },
    {
     "name": "stdout",
     "output_type": "stream",
     "text": [
      "  Downloading rsa-4.9-py3-none-any.whl (34 kB)\n",
      "Requirement already satisfied: urllib3<2.0 in /Users/priyankafrancis/anaconda3/lib/python3.11/site-packages (from google-auth<3,>=1.6.3->tensorboard<2.14,>=2.13->tensorflow-macos==2.13.0->tensorflow) (1.26.16)\n",
      "Collecting requests-oauthlib>=0.7.0 (from google-auth-oauthlib<1.1,>=0.5->tensorboard<2.14,>=2.13->tensorflow-macos==2.13.0->tensorflow)\n",
      "  Downloading requests_oauthlib-1.3.1-py2.py3-none-any.whl (23 kB)\n",
      "Requirement already satisfied: charset-normalizer<4,>=2 in /Users/priyankafrancis/anaconda3/lib/python3.11/site-packages (from requests<3,>=2.21.0->tensorboard<2.14,>=2.13->tensorflow-macos==2.13.0->tensorflow) (2.0.4)\n",
      "Requirement already satisfied: idna<4,>=2.5 in /Users/priyankafrancis/anaconda3/lib/python3.11/site-packages (from requests<3,>=2.21.0->tensorboard<2.14,>=2.13->tensorflow-macos==2.13.0->tensorflow) (3.4)\n",
      "Requirement already satisfied: certifi>=2017.4.17 in /Users/priyankafrancis/anaconda3/lib/python3.11/site-packages (from requests<3,>=2.21.0->tensorboard<2.14,>=2.13->tensorflow-macos==2.13.0->tensorflow) (2023.7.22)\n",
      "Requirement already satisfied: MarkupSafe>=2.1.1 in /Users/priyankafrancis/anaconda3/lib/python3.11/site-packages (from werkzeug>=1.0.1->tensorboard<2.14,>=2.13->tensorflow-macos==2.13.0->tensorflow) (2.1.1)\n",
      "Requirement already satisfied: pyasn1<0.5.0,>=0.4.6 in /Users/priyankafrancis/anaconda3/lib/python3.11/site-packages (from pyasn1-modules>=0.2.1->google-auth<3,>=1.6.3->tensorboard<2.14,>=2.13->tensorflow-macos==2.13.0->tensorflow) (0.4.8)\n",
      "Collecting oauthlib>=3.0.0 (from requests-oauthlib>=0.7.0->google-auth-oauthlib<1.1,>=0.5->tensorboard<2.14,>=2.13->tensorflow-macos==2.13.0->tensorflow)\n",
      "  Downloading oauthlib-3.2.2-py3-none-any.whl (151 kB)\n",
      "\u001b[2K     \u001b[90m━━━━━━━━━━━━━━━━━━━━━━━━━━━━━━━━━━━━━━━\u001b[0m \u001b[32m151.7/151.7 kB\u001b[0m \u001b[31m3.1 MB/s\u001b[0m eta \u001b[36m0:00:00\u001b[0ma \u001b[36m0:00:01\u001b[0m\n",
      "\u001b[?25hDownloading tensorflow-2.13.0-cp311-cp311-macosx_12_0_arm64.whl (1.9 kB)\n",
      "Downloading tensorflow_macos-2.13.0-cp311-cp311-macosx_12_0_arm64.whl (189.3 MB)\n",
      "\u001b[2K   \u001b[90m━━━━━━━━━━━━━━━━━━━━━━━━━━━━━━━━━━━━━━━━\u001b[0m \u001b[32m189.3/189.3 MB\u001b[0m \u001b[31m2.2 MB/s\u001b[0m eta \u001b[36m0:00:00\u001b[0m00:01\u001b[0m00:03\u001b[0mm\n",
      "\u001b[?25hDownloading flatbuffers-23.5.26-py2.py3-none-any.whl (26 kB)\n",
      "Downloading grpcio-1.58.0-cp311-cp311-macosx_10_10_universal2.whl (9.5 MB)\n",
      "\u001b[2K   \u001b[90m━━━━━━━━━━━━━━━━━━━━━━━━━━━━━━━━━━━━━━━━\u001b[0m \u001b[32m9.5/9.5 MB\u001b[0m \u001b[31m1.6 MB/s\u001b[0m eta \u001b[36m0:00:00\u001b[0m00:01\u001b[0m00:01\u001b[0m\n",
      "\u001b[?25hDownloading keras-2.13.1-py3-none-any.whl (1.7 MB)\n",
      "\u001b[2K   \u001b[90m━━━━━━━━━━━━━━━━━━━━━━━━━━━━━━━━━━━━━━━━\u001b[0m \u001b[32m1.7/1.7 MB\u001b[0m \u001b[31m3.2 MB/s\u001b[0m eta \u001b[36m0:00:00\u001b[0m00:01\u001b[0m00:01\u001b[0m\n",
      "\u001b[?25hDownloading libclang-16.0.6-py2.py3-none-macosx_11_0_arm64.whl (20.6 MB)\n",
      "\u001b[2K   \u001b[90m━━━━━━━━━━━━━━━━━━━━━━━━━━━━━━━━━━━━━━━━\u001b[0m \u001b[32m20.6/20.6 MB\u001b[0m \u001b[31m2.0 MB/s\u001b[0m eta \u001b[36m0:00:00\u001b[0m00:01\u001b[0m00:01\u001b[0m\n",
      "\u001b[?25hDownloading protobuf-4.24.3-cp37-abi3-macosx_10_9_universal2.whl (409 kB)\n",
      "\u001b[2K   \u001b[90m━━━━━━━━━━━━━━━━━━━━━━━━━━━━━━━━━━━━━━━━\u001b[0m \u001b[32m409.4/409.4 kB\u001b[0m \u001b[31m2.5 MB/s\u001b[0m eta \u001b[36m0:00:00\u001b[0m00:01\u001b[0m00:01\u001b[0m\n",
      "\u001b[?25hDownloading tensorflow_estimator-2.13.0-py2.py3-none-any.whl (440 kB)\n",
      "\u001b[2K   \u001b[90m━━━━━━━━━━━━━━━━━━━━━━━━━━━━━━━━━━━━━━━━\u001b[0m \u001b[32m440.8/440.8 kB\u001b[0m \u001b[31m2.4 MB/s\u001b[0m eta \u001b[36m0:00:00\u001b[0ma \u001b[36m0:00:01\u001b[0m\n",
      "\u001b[?25hDownloading google_auth-2.23.0-py2.py3-none-any.whl (181 kB)\n",
      "\u001b[2K   \u001b[90m━━━━━━━━━━━━━━━━━━━━━━━━━━━━━━━━━━━━━━━━\u001b[0m \u001b[32m181.4/181.4 kB\u001b[0m \u001b[31m2.8 MB/s\u001b[0m eta \u001b[36m0:00:00\u001b[0m \u001b[36m0:00:01\u001b[0m\n",
      "\u001b[?25hDownloading tensorboard_data_server-0.7.1-py3-none-any.whl (2.4 kB)\n",
      "Downloading cachetools-5.3.1-py3-none-any.whl (9.3 kB)\n",
      "Installing collected packages: libclang, flatbuffers, typing-extensions, termcolor, tensorflow-estimator, tensorboard-data-server, rsa, protobuf, opt-einsum, oauthlib, keras, grpcio, google-pasta, gast, cachetools, astunparse, absl-py, requests-oauthlib, google-auth, google-auth-oauthlib, tensorboard, tensorflow-macos, tensorflow\n",
      "  Attempting uninstall: typing-extensions\n",
      "    Found existing installation: typing_extensions 4.7.1\n",
      "    Uninstalling typing_extensions-4.7.1:\n",
      "      Successfully uninstalled typing_extensions-4.7.1\n",
      "Successfully installed absl-py-1.4.0 astunparse-1.6.3 cachetools-5.3.1 flatbuffers-23.5.26 gast-0.4.0 google-auth-2.23.0 google-auth-oauthlib-1.0.0 google-pasta-0.2.0 grpcio-1.58.0 keras-2.13.1 libclang-16.0.6 oauthlib-3.2.2 opt-einsum-3.3.0 protobuf-4.24.3 requests-oauthlib-1.3.1 rsa-4.9 tensorboard-2.13.0 tensorboard-data-server-0.7.1 tensorflow-2.13.0 tensorflow-estimator-2.13.0 tensorflow-macos-2.13.0 termcolor-2.3.0 typing-extensions-4.5.0\n",
      "Note: you may need to restart the kernel to use updated packages.\n"
     ]
    }
   ],
   "source": [
    "pip install tensorflow"
   ]
  },
  {
   "cell_type": "code",
   "execution_count": 5,
   "id": "ed7ea549",
   "metadata": {},
   "outputs": [],
   "source": [
    "import tensorflow as tf"
   ]
  },
  {
   "cell_type": "code",
   "execution_count": 8,
   "id": "9a85d7f9",
   "metadata": {},
   "outputs": [
    {
     "name": "stdout",
     "output_type": "stream",
     "text": [
      "2.13.0\n"
     ]
    }
   ],
   "source": [
    "print(tf.__version__)"
   ]
  },
  {
   "cell_type": "code",
   "execution_count": 9,
   "id": "ee94a800",
   "metadata": {},
   "outputs": [],
   "source": [
    "import numpy as np"
   ]
  },
  {
   "cell_type": "code",
   "execution_count": 10,
   "id": "16300057",
   "metadata": {},
   "outputs": [],
   "source": [
    "from numpy import loadtxt"
   ]
  },
  {
   "cell_type": "code",
   "execution_count": 16,
   "id": "c60939c4",
   "metadata": {},
   "outputs": [],
   "source": [
    "df = loadtxt('heart_failure_clinical_records_dataset.csv',delimiter=',')"
   ]
  },
  {
   "cell_type": "code",
   "execution_count": 20,
   "id": "cd2ae964",
   "metadata": {},
   "outputs": [
    {
     "data": {
      "text/plain": [
       "(299, 13)"
      ]
     },
     "execution_count": 20,
     "metadata": {},
     "output_type": "execute_result"
    }
   ],
   "source": [
    "df.shape"
   ]
  },
  {
   "cell_type": "code",
   "execution_count": 23,
   "id": "f3b04083",
   "metadata": {},
   "outputs": [],
   "source": [
    "x = df[:,0:12]\n",
    "y = df[:,12]"
   ]
  },
  {
   "cell_type": "code",
   "execution_count": 24,
   "id": "446051d1",
   "metadata": {},
   "outputs": [
    {
     "data": {
      "text/plain": [
       "array([[7.500e+01, 0.000e+00, 5.820e+02, ..., 1.000e+00, 0.000e+00,\n",
       "        4.000e+00],\n",
       "       [5.500e+01, 0.000e+00, 7.861e+03, ..., 1.000e+00, 0.000e+00,\n",
       "        6.000e+00],\n",
       "       [6.500e+01, 0.000e+00, 1.460e+02, ..., 1.000e+00, 1.000e+00,\n",
       "        7.000e+00],\n",
       "       ...,\n",
       "       [4.500e+01, 0.000e+00, 2.060e+03, ..., 0.000e+00, 0.000e+00,\n",
       "        2.780e+02],\n",
       "       [4.500e+01, 0.000e+00, 2.413e+03, ..., 1.000e+00, 1.000e+00,\n",
       "        2.800e+02],\n",
       "       [5.000e+01, 0.000e+00, 1.960e+02, ..., 1.000e+00, 1.000e+00,\n",
       "        2.850e+02]])"
      ]
     },
     "execution_count": 24,
     "metadata": {},
     "output_type": "execute_result"
    }
   ],
   "source": [
    "x"
   ]
  },
  {
   "cell_type": "code",
   "execution_count": 25,
   "id": "45ea9c8e",
   "metadata": {},
   "outputs": [
    {
     "data": {
      "text/plain": [
       "array([1., 1., 1., 1., 1., 1., 1., 1., 1., 1., 1., 1., 1., 1., 0., 1., 1.,\n",
       "       1., 1., 1., 0., 1., 1., 0., 1., 1., 1., 1., 1., 1., 1., 1., 1., 0.,\n",
       "       1., 1., 1., 1., 0., 1., 1., 1., 1., 0., 1., 1., 1., 1., 1., 1., 1.,\n",
       "       1., 1., 1., 1., 1., 0., 0., 1., 1., 1., 1., 0., 1., 0., 1., 1., 1.,\n",
       "       1., 1., 0., 0., 1., 0., 1., 1., 0., 0., 0., 0., 0., 0., 1., 0., 1.,\n",
       "       0., 0., 0., 0., 0., 0., 0., 0., 1., 0., 0., 0., 0., 0., 0., 0., 0.,\n",
       "       0., 0., 0., 1., 0., 0., 0., 0., 1., 0., 0., 1., 0., 0., 0., 0., 0.,\n",
       "       1., 0., 0., 0., 0., 1., 0., 1., 0., 0., 0., 0., 0., 0., 0., 0., 0.,\n",
       "       0., 0., 0., 0., 1., 0., 0., 0., 1., 0., 0., 0., 1., 0., 1., 0., 0.,\n",
       "       0., 0., 0., 0., 0., 0., 0., 0., 0., 0., 1., 1., 1., 0., 1., 0., 0.,\n",
       "       0., 0., 0., 0., 0., 0., 0., 0., 0., 0., 0., 1., 1., 1., 1., 1., 1.,\n",
       "       1., 0., 0., 0., 0., 0., 0., 1., 1., 0., 0., 0., 0., 0., 0., 0., 0.,\n",
       "       0., 0., 0., 0., 0., 0., 0., 0., 0., 1., 0., 0., 0., 1., 0., 0., 1.,\n",
       "       0., 0., 0., 0., 0., 0., 0., 0., 0., 1., 0., 0., 0., 0., 0., 0., 0.,\n",
       "       0., 0., 0., 0., 0., 0., 0., 0., 1., 0., 0., 0., 0., 0., 0., 0., 0.,\n",
       "       0., 0., 0., 0., 0., 0., 0., 1., 0., 0., 0., 1., 0., 0., 0., 0., 0.,\n",
       "       0., 0., 0., 0., 0., 0., 0., 0., 0., 0., 0., 0., 0., 0., 0., 0., 0.,\n",
       "       0., 0., 0., 0., 0., 0., 0., 0., 0., 0.])"
      ]
     },
     "execution_count": 25,
     "metadata": {},
     "output_type": "execute_result"
    }
   ],
   "source": [
    "y"
   ]
  },
  {
   "cell_type": "code",
   "execution_count": 26,
   "id": "b0ff472b",
   "metadata": {},
   "outputs": [],
   "source": [
    "from sklearn.model_selection import train_test_split"
   ]
  },
  {
   "cell_type": "code",
   "execution_count": 27,
   "id": "20a03b1e",
   "metadata": {},
   "outputs": [],
   "source": [
    "xtrain, xtest, ytrain, ytest = train_test_split(x,y,test_size=0.2)"
   ]
  },
  {
   "cell_type": "code",
   "execution_count": 28,
   "id": "53e71d07",
   "metadata": {},
   "outputs": [],
   "source": [
    "from keras.models import Sequential"
   ]
  },
  {
   "cell_type": "code",
   "execution_count": 29,
   "id": "7726c159",
   "metadata": {},
   "outputs": [],
   "source": [
    "from keras.layers import Dense"
   ]
  },
  {
   "cell_type": "code",
   "execution_count": 30,
   "id": "c1fd92b4",
   "metadata": {},
   "outputs": [],
   "source": [
    "model = Sequential()"
   ]
  },
  {
   "cell_type": "code",
   "execution_count": 34,
   "id": "9e59e2c8",
   "metadata": {},
   "outputs": [],
   "source": [
    "model.add(Dense(12, input_dim=12,activation='relu'))"
   ]
  },
  {
   "cell_type": "code",
   "execution_count": 35,
   "id": "e18b6832",
   "metadata": {},
   "outputs": [],
   "source": [
    "model.add(Dense(12,activation='relu'))"
   ]
  },
  {
   "cell_type": "code",
   "execution_count": 36,
   "id": "114abd84",
   "metadata": {},
   "outputs": [],
   "source": [
    "model.add(Dense(1,activation='sigmoid'))"
   ]
  },
  {
   "cell_type": "code",
   "execution_count": 37,
   "id": "8a39d248",
   "metadata": {},
   "outputs": [],
   "source": [
    "model.compile(loss='binary_crossentropy',optimizer='adam',metrics=['accuracy'])"
   ]
  },
  {
   "cell_type": "code",
   "execution_count": 39,
   "id": "0ebbad5d",
   "metadata": {},
   "outputs": [
    {
     "name": "stdout",
     "output_type": "stream",
     "text": [
      "Epoch 1/150\n",
      "6/6 [==============================] - 0s 1ms/step - loss: 165.3323 - accuracy: 0.4644\n",
      "Epoch 2/150\n",
      "6/6 [==============================] - 0s 958us/step - loss: 61.7865 - accuracy: 0.5690\n",
      "Epoch 3/150\n",
      "6/6 [==============================] - 0s 880us/step - loss: 77.0907 - accuracy: 0.5565\n",
      "Epoch 4/150\n",
      "6/6 [==============================] - 0s 676us/step - loss: 49.4756 - accuracy: 0.5941\n",
      "Epoch 5/150\n",
      "6/6 [==============================] - 0s 652us/step - loss: 117.1854 - accuracy: 0.5021\n",
      "Epoch 6/150\n",
      "6/6 [==============================] - 0s 557us/step - loss: 147.7974 - accuracy: 0.4519\n",
      "Epoch 7/150\n",
      "6/6 [==============================] - 0s 776us/step - loss: 217.2537 - accuracy: 0.6904\n",
      "Epoch 8/150\n",
      "6/6 [==============================] - 0s 523us/step - loss: 77.4745 - accuracy: 0.5272\n",
      "Epoch 9/150\n",
      "6/6 [==============================] - 0s 494us/step - loss: 61.5321 - accuracy: 0.5732\n",
      "Epoch 10/150\n",
      "6/6 [==============================] - 0s 661us/step - loss: 61.8037 - accuracy: 0.5690\n",
      "Epoch 11/150\n",
      "6/6 [==============================] - 0s 528us/step - loss: 85.7633 - accuracy: 0.5565\n",
      "Epoch 12/150\n",
      "6/6 [==============================] - 0s 523us/step - loss: 60.1830 - accuracy: 0.6151\n",
      "Epoch 13/150\n",
      "6/6 [==============================] - 0s 515us/step - loss: 87.7583 - accuracy: 0.6527\n",
      "Epoch 14/150\n",
      "6/6 [==============================] - 0s 656us/step - loss: 69.9207 - accuracy: 0.6318\n",
      "Epoch 15/150\n",
      "6/6 [==============================] - 0s 556us/step - loss: 80.2895 - accuracy: 0.5774\n",
      "Epoch 16/150\n",
      "6/6 [==============================] - 0s 525us/step - loss: 48.4136 - accuracy: 0.6402\n",
      "Epoch 17/150\n",
      "6/6 [==============================] - 0s 537us/step - loss: 26.0165 - accuracy: 0.5816\n",
      "Epoch 18/150\n",
      "6/6 [==============================] - 0s 524us/step - loss: 40.1381 - accuracy: 0.6234\n",
      "Epoch 19/150\n",
      "6/6 [==============================] - 0s 861us/step - loss: 63.7617 - accuracy: 0.5816\n",
      "Epoch 20/150\n",
      "6/6 [==============================] - 0s 564us/step - loss: 52.4924 - accuracy: 0.6025\n",
      "Epoch 21/150\n",
      "6/6 [==============================] - 0s 500us/step - loss: 84.9129 - accuracy: 0.5816\n",
      "Epoch 22/150\n",
      "6/6 [==============================] - 0s 603us/step - loss: 68.3333 - accuracy: 0.6025\n",
      "Epoch 23/150\n",
      "6/6 [==============================] - 0s 565us/step - loss: 27.1278 - accuracy: 0.6318\n",
      "Epoch 24/150\n",
      "6/6 [==============================] - 0s 557us/step - loss: 21.8912 - accuracy: 0.6234\n",
      "Epoch 25/150\n",
      "6/6 [==============================] - 0s 540us/step - loss: 40.9192 - accuracy: 0.5356\n",
      "Epoch 26/150\n",
      "6/6 [==============================] - 0s 639us/step - loss: 128.6081 - accuracy: 0.6904\n",
      "Epoch 27/150\n",
      "6/6 [==============================] - 0s 557us/step - loss: 154.2976 - accuracy: 0.4644\n",
      "Epoch 28/150\n",
      "6/6 [==============================] - 0s 541us/step - loss: 107.3298 - accuracy: 0.5356\n",
      "Epoch 29/150\n",
      "6/6 [==============================] - 0s 537us/step - loss: 24.5170 - accuracy: 0.6527\n",
      "Epoch 30/150\n",
      "6/6 [==============================] - 0s 596us/step - loss: 32.1772 - accuracy: 0.6192\n",
      "Epoch 31/150\n",
      "6/6 [==============================] - 0s 570us/step - loss: 23.9376 - accuracy: 0.6569\n",
      "Epoch 32/150\n",
      "6/6 [==============================] - 0s 551us/step - loss: 37.9773 - accuracy: 0.6485\n",
      "Epoch 33/150\n",
      "6/6 [==============================] - 0s 531us/step - loss: 97.9474 - accuracy: 0.6067\n",
      "Epoch 34/150\n",
      "6/6 [==============================] - 0s 598us/step - loss: 54.7556 - accuracy: 0.5732\n",
      "Epoch 35/150\n",
      "6/6 [==============================] - 0s 598us/step - loss: 26.0019 - accuracy: 0.5732\n",
      "Epoch 36/150\n",
      "6/6 [==============================] - 0s 534us/step - loss: 25.9932 - accuracy: 0.6192\n",
      "Epoch 37/150\n",
      "6/6 [==============================] - 0s 521us/step - loss: 47.1811 - accuracy: 0.5858\n",
      "Epoch 38/150\n",
      "6/6 [==============================] - 0s 535us/step - loss: 104.3816 - accuracy: 0.6360\n",
      "Epoch 39/150\n",
      "6/6 [==============================] - 0s 725us/step - loss: 79.6527 - accuracy: 0.6025\n",
      "Epoch 40/150\n",
      "6/6 [==============================] - 0s 551us/step - loss: 90.4509 - accuracy: 0.5774\n",
      "Epoch 41/150\n",
      "6/6 [==============================] - 0s 561us/step - loss: 54.8447 - accuracy: 0.5900\n",
      "Epoch 42/150\n",
      "6/6 [==============================] - 0s 510us/step - loss: 97.5644 - accuracy: 0.5774\n",
      "Epoch 43/150\n",
      "6/6 [==============================] - 0s 716us/step - loss: 88.6402 - accuracy: 0.6569\n",
      "Epoch 44/150\n",
      "6/6 [==============================] - 0s 555us/step - loss: 55.7770 - accuracy: 0.5732\n",
      "Epoch 45/150\n",
      "6/6 [==============================] - 0s 544us/step - loss: 122.5690 - accuracy: 0.5900\n",
      "Epoch 46/150\n",
      "6/6 [==============================] - 0s 506us/step - loss: 60.2810 - accuracy: 0.5690\n",
      "Epoch 47/150\n",
      "6/6 [==============================] - 0s 708us/step - loss: 62.4997 - accuracy: 0.5858\n",
      "Epoch 48/150\n",
      "6/6 [==============================] - 0s 570us/step - loss: 45.9659 - accuracy: 0.6192\n",
      "Epoch 49/150\n",
      "6/6 [==============================] - 0s 471us/step - loss: 84.5015 - accuracy: 0.6067\n",
      "Epoch 50/150\n",
      "6/6 [==============================] - 0s 574us/step - loss: 41.7299 - accuracy: 0.6485\n",
      "Epoch 51/150\n",
      "6/6 [==============================] - 0s 657us/step - loss: 30.5263 - accuracy: 0.6485\n",
      "Epoch 52/150\n",
      "6/6 [==============================] - 0s 551us/step - loss: 63.9791 - accuracy: 0.5356\n",
      "Epoch 53/150\n",
      "6/6 [==============================] - 0s 540us/step - loss: 45.7759 - accuracy: 0.6318\n",
      "Epoch 54/150\n",
      "6/6 [==============================] - 0s 499us/step - loss: 18.2668 - accuracy: 0.6569\n",
      "Epoch 55/150\n",
      "6/6 [==============================] - 0s 661us/step - loss: 30.1878 - accuracy: 0.6736\n",
      "Epoch 56/150\n",
      "6/6 [==============================] - 0s 517us/step - loss: 33.7925 - accuracy: 0.6569\n",
      "Epoch 57/150\n",
      "6/6 [==============================] - 0s 515us/step - loss: 26.1175 - accuracy: 0.5858\n",
      "Epoch 58/150\n",
      "6/6 [==============================] - 0s 491us/step - loss: 18.1789 - accuracy: 0.6067\n",
      "Epoch 59/150\n",
      "6/6 [==============================] - 0s 623us/step - loss: 24.0851 - accuracy: 0.6987\n",
      "Epoch 60/150\n",
      "6/6 [==============================] - 0s 491us/step - loss: 55.4416 - accuracy: 0.5983\n",
      "Epoch 61/150\n",
      "6/6 [==============================] - 0s 506us/step - loss: 69.3010 - accuracy: 0.5900\n",
      "Epoch 62/150\n",
      "6/6 [==============================] - 0s 492us/step - loss: 36.1727 - accuracy: 0.6611\n",
      "Epoch 63/150\n",
      "6/6 [==============================] - 0s 616us/step - loss: 11.5374 - accuracy: 0.6234\n",
      "Epoch 64/150\n",
      "6/6 [==============================] - 0s 503us/step - loss: 28.8270 - accuracy: 0.6109\n",
      "Epoch 65/150\n",
      "6/6 [==============================] - 0s 490us/step - loss: 36.8913 - accuracy: 0.5941\n",
      "Epoch 66/150\n",
      "6/6 [==============================] - 0s 491us/step - loss: 56.0385 - accuracy: 0.6360\n",
      "Epoch 67/150\n",
      "6/6 [==============================] - 0s 559us/step - loss: 55.7869 - accuracy: 0.6025\n",
      "Epoch 68/150\n",
      "6/6 [==============================] - 0s 507us/step - loss: 65.2846 - accuracy: 0.5858\n",
      "Epoch 69/150\n",
      "6/6 [==============================] - 0s 484us/step - loss: 81.6814 - accuracy: 0.6820\n",
      "Epoch 70/150\n",
      "6/6 [==============================] - 0s 508us/step - loss: 64.8960 - accuracy: 0.6527\n",
      "Epoch 71/150\n",
      "6/6 [==============================] - 0s 498us/step - loss: 110.5056 - accuracy: 0.5397\n",
      "Epoch 72/150\n",
      "6/6 [==============================] - 0s 620us/step - loss: 105.7091 - accuracy: 0.5439\n",
      "Epoch 73/150\n",
      "6/6 [==============================] - 0s 498us/step - loss: 136.3581 - accuracy: 0.6192\n",
      "Epoch 74/150\n",
      "6/6 [==============================] - 0s 490us/step - loss: 30.7645 - accuracy: 0.6360\n",
      "Epoch 75/150\n",
      "6/6 [==============================] - 0s 488us/step - loss: 77.8726 - accuracy: 0.5649\n",
      "Epoch 76/150\n",
      "6/6 [==============================] - 0s 624us/step - loss: 96.0646 - accuracy: 0.5649\n",
      "Epoch 77/150\n",
      "6/6 [==============================] - 0s 517us/step - loss: 21.6572 - accuracy: 0.6778\n",
      "Epoch 78/150\n",
      "6/6 [==============================] - 0s 489us/step - loss: 27.6196 - accuracy: 0.6527\n",
      "Epoch 79/150\n",
      "6/6 [==============================] - 0s 479us/step - loss: 19.0879 - accuracy: 0.5858\n",
      "Epoch 80/150\n",
      "6/6 [==============================] - 0s 517us/step - loss: 56.0095 - accuracy: 0.5690\n",
      "Epoch 81/150\n",
      "6/6 [==============================] - 0s 521us/step - loss: 112.8702 - accuracy: 0.6987\n",
      "Epoch 82/150\n"
     ]
    },
    {
     "name": "stdout",
     "output_type": "stream",
     "text": [
      "6/6 [==============================] - 0s 497us/step - loss: 210.6328 - accuracy: 0.5063\n",
      "Epoch 83/150\n",
      "6/6 [==============================] - 0s 505us/step - loss: 107.6749 - accuracy: 0.6025\n",
      "Epoch 84/150\n",
      "6/6 [==============================] - 0s 502us/step - loss: 58.0264 - accuracy: 0.5397\n",
      "Epoch 85/150\n",
      "6/6 [==============================] - 0s 598us/step - loss: 131.7189 - accuracy: 0.6653\n",
      "Epoch 86/150\n",
      "6/6 [==============================] - 0s 528us/step - loss: 30.7200 - accuracy: 0.6025\n",
      "Epoch 87/150\n",
      "6/6 [==============================] - 0s 488us/step - loss: 29.8401 - accuracy: 0.6109\n",
      "Epoch 88/150\n",
      "6/6 [==============================] - 0s 493us/step - loss: 25.8651 - accuracy: 0.6569\n",
      "Epoch 89/150\n",
      "6/6 [==============================] - 0s 676us/step - loss: 38.8480 - accuracy: 0.5816\n",
      "Epoch 90/150\n",
      "6/6 [==============================] - 0s 516us/step - loss: 107.4819 - accuracy: 0.6360\n",
      "Epoch 91/150\n",
      "6/6 [==============================] - 0s 523us/step - loss: 103.0649 - accuracy: 0.5690\n",
      "Epoch 92/150\n",
      "6/6 [==============================] - 0s 483us/step - loss: 119.7701 - accuracy: 0.5356\n",
      "Epoch 93/150\n",
      "6/6 [==============================] - 0s 570us/step - loss: 135.8706 - accuracy: 0.6904\n",
      "Epoch 94/150\n",
      "6/6 [==============================] - 0s 503us/step - loss: 137.8059 - accuracy: 0.4728\n",
      "Epoch 95/150\n",
      "6/6 [==============================] - 0s 468us/step - loss: 110.5839 - accuracy: 0.6192\n",
      "Epoch 96/150\n",
      "6/6 [==============================] - 0s 466us/step - loss: 129.5292 - accuracy: 0.6276\n",
      "Epoch 97/150\n",
      "6/6 [==============================] - 0s 490us/step - loss: 95.9960 - accuracy: 0.5397\n",
      "Epoch 98/150\n",
      "6/6 [==============================] - 0s 657us/step - loss: 119.1646 - accuracy: 0.6569\n",
      "Epoch 99/150\n",
      "6/6 [==============================] - 0s 495us/step - loss: 191.5421 - accuracy: 0.5523\n",
      "Epoch 100/150\n",
      "6/6 [==============================] - 0s 479us/step - loss: 184.7499 - accuracy: 0.6067\n",
      "Epoch 101/150\n",
      "6/6 [==============================] - 0s 461us/step - loss: 203.4809 - accuracy: 0.5983\n",
      "Epoch 102/150\n",
      "6/6 [==============================] - 0s 473us/step - loss: 149.9697 - accuracy: 0.4477\n",
      "Epoch 103/150\n",
      "6/6 [==============================] - 0s 582us/step - loss: 190.0247 - accuracy: 0.6904\n",
      "Epoch 104/150\n",
      "6/6 [==============================] - 0s 525us/step - loss: 136.6873 - accuracy: 0.5146\n",
      "Epoch 105/150\n",
      "6/6 [==============================] - 0s 498us/step - loss: 136.4129 - accuracy: 0.5858\n",
      "Epoch 106/150\n",
      "6/6 [==============================] - 0s 492us/step - loss: 107.0270 - accuracy: 0.6485\n",
      "Epoch 107/150\n",
      "6/6 [==============================] - 0s 543us/step - loss: 80.5400 - accuracy: 0.5690\n",
      "Epoch 108/150\n",
      "6/6 [==============================] - 0s 532us/step - loss: 24.5417 - accuracy: 0.6234\n",
      "Epoch 109/150\n",
      "6/6 [==============================] - 0s 497us/step - loss: 15.8402 - accuracy: 0.6695\n",
      "Epoch 110/150\n",
      "6/6 [==============================] - 0s 465us/step - loss: 17.9440 - accuracy: 0.6653\n",
      "Epoch 111/150\n",
      "6/6 [==============================] - 0s 577us/step - loss: 39.6664 - accuracy: 0.5481\n",
      "Epoch 112/150\n",
      "6/6 [==============================] - 0s 527us/step - loss: 59.8060 - accuracy: 0.6151\n",
      "Epoch 113/150\n",
      "6/6 [==============================] - 0s 505us/step - loss: 59.8109 - accuracy: 0.5858\n",
      "Epoch 114/150\n",
      "6/6 [==============================] - 0s 461us/step - loss: 96.9513 - accuracy: 0.7029\n",
      "Epoch 115/150\n",
      "6/6 [==============================] - 0s 509us/step - loss: 114.9162 - accuracy: 0.5983\n",
      "Epoch 116/150\n",
      "6/6 [==============================] - 0s 574us/step - loss: 55.3911 - accuracy: 0.5858\n",
      "Epoch 117/150\n",
      "6/6 [==============================] - 0s 1ms/step - loss: 15.6554 - accuracy: 0.6527\n",
      "Epoch 118/150\n",
      "6/6 [==============================] - 0s 593us/step - loss: 15.7490 - accuracy: 0.6946\n",
      "Epoch 119/150\n",
      "6/6 [==============================] - 0s 586us/step - loss: 20.5785 - accuracy: 0.6862\n",
      "Epoch 120/150\n",
      "6/6 [==============================] - 0s 473us/step - loss: 24.2507 - accuracy: 0.6402\n",
      "Epoch 121/150\n",
      "6/6 [==============================] - 0s 491us/step - loss: 11.7519 - accuracy: 0.7113\n",
      "Epoch 122/150\n",
      "6/6 [==============================] - 0s 496us/step - loss: 23.7905 - accuracy: 0.6025\n",
      "Epoch 123/150\n",
      "6/6 [==============================] - 0s 570us/step - loss: 16.2523 - accuracy: 0.6360\n",
      "Epoch 124/150\n",
      "6/6 [==============================] - 0s 510us/step - loss: 70.5941 - accuracy: 0.5983\n",
      "Epoch 125/150\n",
      "6/6 [==============================] - 0s 495us/step - loss: 70.5628 - accuracy: 0.5607\n",
      "Epoch 126/150\n",
      "6/6 [==============================] - 0s 506us/step - loss: 79.0957 - accuracy: 0.5439\n",
      "Epoch 127/150\n",
      "6/6 [==============================] - 0s 499us/step - loss: 140.2424 - accuracy: 0.5732\n",
      "Epoch 128/150\n",
      "6/6 [==============================] - 0s 594us/step - loss: 115.5600 - accuracy: 0.6276\n",
      "Epoch 129/150\n",
      "6/6 [==============================] - 0s 571us/step - loss: 56.2002 - accuracy: 0.5649\n",
      "Epoch 130/150\n",
      "6/6 [==============================] - 0s 537us/step - loss: 8.8566 - accuracy: 0.7364\n",
      "Epoch 131/150\n",
      "6/6 [==============================] - 0s 505us/step - loss: 13.6421 - accuracy: 0.6611\n",
      "Epoch 132/150\n",
      "6/6 [==============================] - 0s 623us/step - loss: 16.3170 - accuracy: 0.6653\n",
      "Epoch 133/150\n",
      "6/6 [==============================] - 0s 530us/step - loss: 9.3852 - accuracy: 0.7238\n",
      "Epoch 134/150\n",
      "6/6 [==============================] - 0s 521us/step - loss: 15.6672 - accuracy: 0.7071\n",
      "Epoch 135/150\n",
      "6/6 [==============================] - 0s 503us/step - loss: 14.0452 - accuracy: 0.6569\n",
      "Epoch 136/150\n",
      "6/6 [==============================] - 0s 604us/step - loss: 41.5696 - accuracy: 0.5900\n",
      "Epoch 137/150\n",
      "6/6 [==============================] - 0s 495us/step - loss: 59.8063 - accuracy: 0.6485\n",
      "Epoch 138/150\n",
      "6/6 [==============================] - 0s 497us/step - loss: 29.5924 - accuracy: 0.6485\n",
      "Epoch 139/150\n",
      "6/6 [==============================] - 0s 501us/step - loss: 15.4976 - accuracy: 0.6653\n",
      "Epoch 140/150\n",
      "6/6 [==============================] - 0s 559us/step - loss: 23.0556 - accuracy: 0.6402\n",
      "Epoch 141/150\n",
      "6/6 [==============================] - 0s 474us/step - loss: 25.8027 - accuracy: 0.5816\n",
      "Epoch 142/150\n",
      "6/6 [==============================] - 0s 498us/step - loss: 75.4695 - accuracy: 0.5565\n",
      "Epoch 143/150\n",
      "6/6 [==============================] - 0s 489us/step - loss: 82.0506 - accuracy: 0.6276\n",
      "Epoch 144/150\n",
      "6/6 [==============================] - 0s 491us/step - loss: 46.5022 - accuracy: 0.6778\n",
      "Epoch 145/150\n",
      "6/6 [==============================] - 0s 570us/step - loss: 78.3847 - accuracy: 0.6151\n",
      "Epoch 146/150\n",
      "6/6 [==============================] - 0s 483us/step - loss: 80.8974 - accuracy: 0.6151\n",
      "Epoch 147/150\n",
      "6/6 [==============================] - 0s 476us/step - loss: 52.5827 - accuracy: 0.5858\n",
      "Epoch 148/150\n",
      "6/6 [==============================] - 0s 479us/step - loss: 73.6920 - accuracy: 0.5900\n",
      "Epoch 149/150\n",
      "6/6 [==============================] - 0s 508us/step - loss: 68.2138 - accuracy: 0.5397\n",
      "Epoch 150/150\n",
      "6/6 [==============================] - 0s 515us/step - loss: 60.4530 - accuracy: 0.5649\n"
     ]
    },
    {
     "data": {
      "text/plain": [
       "<keras.src.callbacks.History at 0x28453aa50>"
      ]
     },
     "execution_count": 39,
     "metadata": {},
     "output_type": "execute_result"
    }
   ],
   "source": [
    "model.fit(xtrain,ytrain,epochs=150,batch_size=43)"
   ]
  },
  {
   "cell_type": "code",
   "execution_count": 46,
   "id": "d0e324fb",
   "metadata": {},
   "outputs": [
    {
     "name": "stdout",
     "output_type": "stream",
     "text": [
      "2/2 [==============================] - 0s 3ms/step - loss: 142.9277 - accuracy: 0.6333\n"
     ]
    }
   ],
   "source": [
    "_,acc=model.evaluate(xtest,ytest)"
   ]
  },
  {
   "cell_type": "code",
   "execution_count": 47,
   "id": "964240b5",
   "metadata": {},
   "outputs": [
    {
     "name": "stdout",
     "output_type": "stream",
     "text": [
      "0.6333333253860474\n"
     ]
    }
   ],
   "source": [
    "print(acc)"
   ]
  },
  {
   "cell_type": "code",
   "execution_count": null,
   "id": "27ef8c20",
   "metadata": {},
   "outputs": [],
   "source": []
  }
 ],
 "metadata": {
  "kernelspec": {
   "display_name": "Python 3 (ipykernel)",
   "language": "python",
   "name": "python3"
  },
  "language_info": {
   "codemirror_mode": {
    "name": "ipython",
    "version": 3
   },
   "file_extension": ".py",
   "mimetype": "text/x-python",
   "name": "python",
   "nbconvert_exporter": "python",
   "pygments_lexer": "ipython3",
   "version": "3.11.4"
  }
 },
 "nbformat": 4,
 "nbformat_minor": 5
}
